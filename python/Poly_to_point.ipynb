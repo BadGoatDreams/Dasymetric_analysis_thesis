{
 "cells": [
  {
   "cell_type": "code",
   "execution_count": 2,
   "id": "1e6a2aea-e3aa-424c-8419-5c7e92c53983",
   "metadata": {},
   "outputs": [],
   "source": [
    "import osmnx as ox\n",
    "import geopandas as gpd\n",
    "import shapely.geometry\n",
    "import random\n"
   ]
  },
  {
   "cell_type": "code",
   "execution_count": 3,
   "id": "4b7ccd06-1668-488d-9be2-9e80d570739e",
   "metadata": {},
   "outputs": [],
   "source": [
    "def generate_random_points_within_polygons(polygon_file, output_file, value_field):\n",
    "    \"\"\"\n",
    "    Generates random points within polygons, with the number of points\n",
    "    corresponding to a specified value field.\n",
    "\n",
    "    Args:\n",
    "        polygon_file (str): Path to the polygon shapefile.\n",
    "        output_file (str): Path to the output point shapefile.\n",
    "        value_field (str): Name of the attribute field containing the values.\n",
    "    \"\"\"\n",
    "\n",
    "    polygons_gdf = gpd.read_file(polygon_file)\n",
    "    points = []\n",
    "\n",
    "    for index, row in polygons_gdf.iterrows():\n",
    "        polygon = row['geometry']\n",
    "        value = int(row[value_field])  # Ensure value is an integer\n",
    "        minx, miny, maxx, maxy = polygon.bounds\n",
    "\n",
    "        for _ in range(value):\n",
    "            while True:  # Keep generating points until one is within the polygon\n",
    "                x = random.uniform(minx, maxx)\n",
    "                y = random.uniform(miny, maxy)\n",
    "                point = shapely.geometry.Point(x, y)\n",
    "                if polygon.contains(point):\n",
    "                    points.append(point)\n",
    "                    break #break the while loop once point is found\n",
    "\n",
    "    points_gdf = gpd.GeoDataFrame(geometry=points, crs=polygons_gdf.crs)\n",
    "    points_gdf.to_file(output_file)\n",
    "\n",
    "# Example usage:\n",
    "basefolder = \"C:/Users/weckero/Documents/Tobackup/\"\n",
    "polygon_file = basefolder + \"teen_dasy_interp3.shp\"  # Replace with your polygon shapefile\n",
    "output_file = basefolder + \"people_points.shp\"  # Replace with your desired output shapefile\n",
    "value_field = \"tot_teen\"  # Replace with the field containing population values\n",
    "\n",
    "generate_random_points_within_polygons(polygon_file, output_file, value_field)"
   ]
  }
 ],
 "metadata": {
  "kernelspec": {
   "display_name": "Python 3 (ipykernel)",
   "language": "python",
   "name": "python3"
  },
  "language_info": {
   "codemirror_mode": {
    "name": "ipython",
    "version": 3
   },
   "file_extension": ".py",
   "mimetype": "text/x-python",
   "name": "python",
   "nbconvert_exporter": "python",
   "pygments_lexer": "ipython3",
   "version": "3.11.10"
  }
 },
 "nbformat": 4,
 "nbformat_minor": 5
}
